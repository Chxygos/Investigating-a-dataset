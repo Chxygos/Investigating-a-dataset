{
 "cells": [
  {
   "cell_type": "markdown",
   "id": "eaa6f9da",
   "metadata": {},
   "source": [
    "## Project : No Show Appointment\n",
    "### Table of Contents\n",
    "* #### Introduction\n",
    "* #### Data Wrangling\n",
    "* #### Exploratory Data Analysis\n",
    "* #### Conclusion"
   ]
  },
  {
   "cell_type": "markdown",
   "id": "50bdcf09",
   "metadata": {},
   "source": [
    "### Introduction\n",
    "\n",
    "#### An Analysis Investigating a dataset \n",
    "\n",
    "In this analysis we are going to investigate a dataset of a \"no-show-appointment\" originally obtained from kaggle.\n",
    "The dataset and informations about the features with their description can be found here https://www.kaggle.com/datasets/joniarroba/noshowappointments \n",
    "\n",
    "The dataset consists of informations on the appointments of patients with medical personeels and whether the were able to show up or not with respect to their appointment.\n",
    "\n",
    "This posed a questions of what important factors affect the show up of these patient, which will help you focus on relevant parts of the data so as to pay more attention towards more meaningful dependent features in our analysis."
   ]
  },
  {
   "cell_type": "markdown",
   "id": "f0210f90",
   "metadata": {},
   "source": [
    "### Wranging Data\n",
    "In this process we are going to; \n",
    "  * Load our \"noshowappointments\" data which we downloaded from kaggle\n",
    "    \n",
    "  * View fews lines of our data to make sure our data is loaded correctly\n",
    "    \n",
    "  * Inspect our data; look at the shape of the data to know how many rows and columns in our dataset\n",
    "    \n",
    "  * Check for missing data, unique data and duplicated data if any\n",
    "  \n",
    "  * Cleaning the data\n"
   ]
  },
  {
   "cell_type": "markdown",
   "id": "bf6800f7",
   "metadata": {},
   "source": [
    "#### Properties\n",
    "First we need to import the necessary packages needed for this project;"
   ]
  },
  {
   "cell_type": "code",
   "execution_count": 1,
   "id": "1bbc1502",
   "metadata": {},
   "outputs": [],
   "source": [
    "# import pandas numpy matplotlib and seaborn \n",
    "import pandas as pd\n",
    "import numpy as np\n",
    "import matplotlib.pyplot as plt\n",
    "%matplotlib inline\n",
    "import seaborn as sns"
   ]
  },
  {
   "cell_type": "code",
   "execution_count": 2,
   "id": "563cd3f4",
   "metadata": {},
   "outputs": [
    {
     "data": {
      "text/html": [
       "<div>\n",
       "<style scoped>\n",
       "    .dataframe tbody tr th:only-of-type {\n",
       "        vertical-align: middle;\n",
       "    }\n",
       "\n",
       "    .dataframe tbody tr th {\n",
       "        vertical-align: top;\n",
       "    }\n",
       "\n",
       "    .dataframe thead th {\n",
       "        text-align: right;\n",
       "    }\n",
       "</style>\n",
       "<table border=\"1\" class=\"dataframe\">\n",
       "  <thead>\n",
       "    <tr style=\"text-align: right;\">\n",
       "      <th></th>\n",
       "      <th>PatientId</th>\n",
       "      <th>AppointmentID</th>\n",
       "      <th>Gender</th>\n",
       "      <th>ScheduledDay</th>\n",
       "      <th>AppointmentDay</th>\n",
       "      <th>Age</th>\n",
       "      <th>Neighbourhood</th>\n",
       "      <th>Scholarship</th>\n",
       "      <th>Hipertension</th>\n",
       "      <th>Diabetes</th>\n",
       "      <th>Alcoholism</th>\n",
       "      <th>Handcap</th>\n",
       "      <th>SMS_received</th>\n",
       "      <th>No-show</th>\n",
       "    </tr>\n",
       "  </thead>\n",
       "  <tbody>\n",
       "    <tr>\n",
       "      <th>0</th>\n",
       "      <td>2.987250e+13</td>\n",
       "      <td>5642903</td>\n",
       "      <td>F</td>\n",
       "      <td>2016-04-29T18:38:08Z</td>\n",
       "      <td>2016-04-29T00:00:00Z</td>\n",
       "      <td>62</td>\n",
       "      <td>JARDIM DA PENHA</td>\n",
       "      <td>0</td>\n",
       "      <td>1</td>\n",
       "      <td>0</td>\n",
       "      <td>0</td>\n",
       "      <td>0</td>\n",
       "      <td>0</td>\n",
       "      <td>No</td>\n",
       "    </tr>\n",
       "    <tr>\n",
       "      <th>1</th>\n",
       "      <td>5.589978e+14</td>\n",
       "      <td>5642503</td>\n",
       "      <td>M</td>\n",
       "      <td>2016-04-29T16:08:27Z</td>\n",
       "      <td>2016-04-29T00:00:00Z</td>\n",
       "      <td>56</td>\n",
       "      <td>JARDIM DA PENHA</td>\n",
       "      <td>0</td>\n",
       "      <td>0</td>\n",
       "      <td>0</td>\n",
       "      <td>0</td>\n",
       "      <td>0</td>\n",
       "      <td>0</td>\n",
       "      <td>No</td>\n",
       "    </tr>\n",
       "    <tr>\n",
       "      <th>2</th>\n",
       "      <td>4.262962e+12</td>\n",
       "      <td>5642549</td>\n",
       "      <td>F</td>\n",
       "      <td>2016-04-29T16:19:04Z</td>\n",
       "      <td>2016-04-29T00:00:00Z</td>\n",
       "      <td>62</td>\n",
       "      <td>MATA DA PRAIA</td>\n",
       "      <td>0</td>\n",
       "      <td>0</td>\n",
       "      <td>0</td>\n",
       "      <td>0</td>\n",
       "      <td>0</td>\n",
       "      <td>0</td>\n",
       "      <td>No</td>\n",
       "    </tr>\n",
       "    <tr>\n",
       "      <th>3</th>\n",
       "      <td>8.679512e+11</td>\n",
       "      <td>5642828</td>\n",
       "      <td>F</td>\n",
       "      <td>2016-04-29T17:29:31Z</td>\n",
       "      <td>2016-04-29T00:00:00Z</td>\n",
       "      <td>8</td>\n",
       "      <td>PONTAL DE CAMBURI</td>\n",
       "      <td>0</td>\n",
       "      <td>0</td>\n",
       "      <td>0</td>\n",
       "      <td>0</td>\n",
       "      <td>0</td>\n",
       "      <td>0</td>\n",
       "      <td>No</td>\n",
       "    </tr>\n",
       "    <tr>\n",
       "      <th>4</th>\n",
       "      <td>8.841186e+12</td>\n",
       "      <td>5642494</td>\n",
       "      <td>F</td>\n",
       "      <td>2016-04-29T16:07:23Z</td>\n",
       "      <td>2016-04-29T00:00:00Z</td>\n",
       "      <td>56</td>\n",
       "      <td>JARDIM DA PENHA</td>\n",
       "      <td>0</td>\n",
       "      <td>1</td>\n",
       "      <td>1</td>\n",
       "      <td>0</td>\n",
       "      <td>0</td>\n",
       "      <td>0</td>\n",
       "      <td>No</td>\n",
       "    </tr>\n",
       "  </tbody>\n",
       "</table>\n",
       "</div>"
      ],
      "text/plain": [
       "      PatientId  AppointmentID Gender          ScheduledDay  \\\n",
       "0  2.987250e+13        5642903      F  2016-04-29T18:38:08Z   \n",
       "1  5.589978e+14        5642503      M  2016-04-29T16:08:27Z   \n",
       "2  4.262962e+12        5642549      F  2016-04-29T16:19:04Z   \n",
       "3  8.679512e+11        5642828      F  2016-04-29T17:29:31Z   \n",
       "4  8.841186e+12        5642494      F  2016-04-29T16:07:23Z   \n",
       "\n",
       "         AppointmentDay  Age      Neighbourhood  Scholarship  Hipertension  \\\n",
       "0  2016-04-29T00:00:00Z   62    JARDIM DA PENHA            0             1   \n",
       "1  2016-04-29T00:00:00Z   56    JARDIM DA PENHA            0             0   \n",
       "2  2016-04-29T00:00:00Z   62      MATA DA PRAIA            0             0   \n",
       "3  2016-04-29T00:00:00Z    8  PONTAL DE CAMBURI            0             0   \n",
       "4  2016-04-29T00:00:00Z   56    JARDIM DA PENHA            0             1   \n",
       "\n",
       "   Diabetes  Alcoholism  Handcap  SMS_received No-show  \n",
       "0         0           0        0             0      No  \n",
       "1         0           0        0             0      No  \n",
       "2         0           0        0             0      No  \n",
       "3         0           0        0             0      No  \n",
       "4         1           0        0             0      No  "
      ]
     },
     "execution_count": 2,
     "metadata": {},
     "output_type": "execute_result"
    }
   ],
   "source": [
    "# Loading the data and viewing data\n",
    "df = pd.read_csv(\"noshowappointments-kagglev2-may-2016.csv\")\n",
    "df.head()"
   ]
  },
  {
   "cell_type": "code",
   "execution_count": 3,
   "id": "5a4aecad",
   "metadata": {},
   "outputs": [
    {
     "data": {
      "text/plain": [
       "(110527, 14)"
      ]
     },
     "execution_count": 3,
     "metadata": {},
     "output_type": "execute_result"
    }
   ],
   "source": [
    "# viewing the shape of the data to know how many rows and columns in our dataset\n",
    "df.shape"
   ]
  },
  {
   "cell_type": "markdown",
   "id": "d65ed689",
   "metadata": {},
   "source": [
    "The above code shows there are **110527** rows which are patients and **14** columns which includes one dependent column that which tell whether a patient shows up or not"
   ]
  },
  {
   "cell_type": "code",
   "execution_count": 4,
   "id": "c9e05f2b",
   "metadata": {},
   "outputs": [
    {
     "data": {
      "text/plain": [
       "PatientId         0\n",
       "AppointmentID     0\n",
       "Gender            0\n",
       "ScheduledDay      0\n",
       "AppointmentDay    0\n",
       "Age               0\n",
       "Neighbourhood     0\n",
       "Scholarship       0\n",
       "Hipertension      0\n",
       "Diabetes          0\n",
       "Alcoholism        0\n",
       "Handcap           0\n",
       "SMS_received      0\n",
       "No-show           0\n",
       "dtype: int64"
      ]
     },
     "execution_count": 4,
     "metadata": {},
     "output_type": "execute_result"
    }
   ],
   "source": [
    "# Checking for missing data\n",
    "df_missing = df.isnull().sum()\n",
    "df_missing"
   ]
  },
  {
   "cell_type": "markdown",
   "id": "24c4edb2",
   "metadata": {},
   "source": [
    "We Created a variable **df_missing** which shows the number of null values in our data.\n",
    "From code we see that our data has no missing values"
   ]
  },
  {
   "cell_type": "code",
   "execution_count": 5,
   "id": "318b03ff",
   "metadata": {},
   "outputs": [
    {
     "data": {
      "text/plain": [
       "0"
      ]
     },
     "execution_count": 5,
     "metadata": {},
     "output_type": "execute_result"
    }
   ],
   "source": [
    "# Checking for duplicates data \n",
    "df_duplicate = sum(df.duplicated())\n",
    "df_duplicate"
   ]
  },
  {
   "cell_type": "markdown",
   "id": "f7129337",
   "metadata": {},
   "source": [
    "Like the the previous step which we created **df_missing** for missing data we also did the same to know if our data has a record that is duplicated. We did this by creating a **df_duplicate** variable which show that there are no duplicate records i.e no rows has exactly the same value in all their columns."
   ]
  },
  {
   "cell_type": "code",
   "execution_count": 6,
   "id": "b4b448a0",
   "metadata": {},
   "outputs": [
    {
     "data": {
      "text/html": [
       "<div>\n",
       "<style scoped>\n",
       "    .dataframe tbody tr th:only-of-type {\n",
       "        vertical-align: middle;\n",
       "    }\n",
       "\n",
       "    .dataframe tbody tr th {\n",
       "        vertical-align: top;\n",
       "    }\n",
       "\n",
       "    .dataframe thead th {\n",
       "        text-align: right;\n",
       "    }\n",
       "</style>\n",
       "<table border=\"1\" class=\"dataframe\">\n",
       "  <thead>\n",
       "    <tr style=\"text-align: right;\">\n",
       "      <th></th>\n",
       "      <th>PatientId</th>\n",
       "      <th>AppointmentID</th>\n",
       "      <th>Gender</th>\n",
       "      <th>ScheduledDay</th>\n",
       "      <th>AppointmentDay</th>\n",
       "      <th>Age</th>\n",
       "      <th>Neighbourhood</th>\n",
       "      <th>Scholarship</th>\n",
       "      <th>Hipertension</th>\n",
       "      <th>Diabetes</th>\n",
       "      <th>Alcoholism</th>\n",
       "      <th>Handcap</th>\n",
       "      <th>SMS_received</th>\n",
       "      <th>No-show</th>\n",
       "    </tr>\n",
       "  </thead>\n",
       "  <tbody>\n",
       "    <tr>\n",
       "      <th>0</th>\n",
       "      <td>2.987250e+13</td>\n",
       "      <td>5642903</td>\n",
       "      <td>F</td>\n",
       "      <td>2016-04-29T18:38:08Z</td>\n",
       "      <td>2016-04-29T00:00:00Z</td>\n",
       "      <td>62</td>\n",
       "      <td>JARDIM DA PENHA</td>\n",
       "      <td>0</td>\n",
       "      <td>1</td>\n",
       "      <td>0</td>\n",
       "      <td>0</td>\n",
       "      <td>0</td>\n",
       "      <td>0</td>\n",
       "      <td>No</td>\n",
       "    </tr>\n",
       "    <tr>\n",
       "      <th>1</th>\n",
       "      <td>5.589978e+14</td>\n",
       "      <td>5642503</td>\n",
       "      <td>M</td>\n",
       "      <td>2016-04-29T16:08:27Z</td>\n",
       "      <td>2016-04-29T00:00:00Z</td>\n",
       "      <td>56</td>\n",
       "      <td>JARDIM DA PENHA</td>\n",
       "      <td>0</td>\n",
       "      <td>0</td>\n",
       "      <td>0</td>\n",
       "      <td>0</td>\n",
       "      <td>0</td>\n",
       "      <td>0</td>\n",
       "      <td>No</td>\n",
       "    </tr>\n",
       "    <tr>\n",
       "      <th>2</th>\n",
       "      <td>4.262962e+12</td>\n",
       "      <td>5642549</td>\n",
       "      <td>F</td>\n",
       "      <td>2016-04-29T16:19:04Z</td>\n",
       "      <td>2016-04-29T00:00:00Z</td>\n",
       "      <td>62</td>\n",
       "      <td>MATA DA PRAIA</td>\n",
       "      <td>0</td>\n",
       "      <td>0</td>\n",
       "      <td>0</td>\n",
       "      <td>0</td>\n",
       "      <td>0</td>\n",
       "      <td>0</td>\n",
       "      <td>No</td>\n",
       "    </tr>\n",
       "    <tr>\n",
       "      <th>3</th>\n",
       "      <td>8.679512e+11</td>\n",
       "      <td>5642828</td>\n",
       "      <td>F</td>\n",
       "      <td>2016-04-29T17:29:31Z</td>\n",
       "      <td>2016-04-29T00:00:00Z</td>\n",
       "      <td>8</td>\n",
       "      <td>PONTAL DE CAMBURI</td>\n",
       "      <td>0</td>\n",
       "      <td>0</td>\n",
       "      <td>0</td>\n",
       "      <td>0</td>\n",
       "      <td>0</td>\n",
       "      <td>0</td>\n",
       "      <td>No</td>\n",
       "    </tr>\n",
       "    <tr>\n",
       "      <th>4</th>\n",
       "      <td>8.841186e+12</td>\n",
       "      <td>5642494</td>\n",
       "      <td>F</td>\n",
       "      <td>2016-04-29T16:07:23Z</td>\n",
       "      <td>2016-04-29T00:00:00Z</td>\n",
       "      <td>56</td>\n",
       "      <td>JARDIM DA PENHA</td>\n",
       "      <td>0</td>\n",
       "      <td>1</td>\n",
       "      <td>1</td>\n",
       "      <td>0</td>\n",
       "      <td>0</td>\n",
       "      <td>0</td>\n",
       "      <td>No</td>\n",
       "    </tr>\n",
       "  </tbody>\n",
       "</table>\n",
       "</div>"
      ],
      "text/plain": [
       "      PatientId  AppointmentID Gender          ScheduledDay  \\\n",
       "0  2.987250e+13        5642903      F  2016-04-29T18:38:08Z   \n",
       "1  5.589978e+14        5642503      M  2016-04-29T16:08:27Z   \n",
       "2  4.262962e+12        5642549      F  2016-04-29T16:19:04Z   \n",
       "3  8.679512e+11        5642828      F  2016-04-29T17:29:31Z   \n",
       "4  8.841186e+12        5642494      F  2016-04-29T16:07:23Z   \n",
       "\n",
       "         AppointmentDay  Age      Neighbourhood  Scholarship  Hipertension  \\\n",
       "0  2016-04-29T00:00:00Z   62    JARDIM DA PENHA            0             1   \n",
       "1  2016-04-29T00:00:00Z   56    JARDIM DA PENHA            0             0   \n",
       "2  2016-04-29T00:00:00Z   62      MATA DA PRAIA            0             0   \n",
       "3  2016-04-29T00:00:00Z    8  PONTAL DE CAMBURI            0             0   \n",
       "4  2016-04-29T00:00:00Z   56    JARDIM DA PENHA            0             1   \n",
       "\n",
       "   Diabetes  Alcoholism  Handcap  SMS_received No-show  \n",
       "0         0           0        0             0      No  \n",
       "1         0           0        0             0      No  \n",
       "2         0           0        0             0      No  \n",
       "3         0           0        0             0      No  \n",
       "4         1           0        0             0      No  "
      ]
     },
     "execution_count": 6,
     "metadata": {},
     "output_type": "execute_result"
    }
   ],
   "source": [
    "# Viewing the few lines of our data\n",
    "df.head()"
   ]
  },
  {
   "cell_type": "code",
   "execution_count": 7,
   "id": "0a1ace49",
   "metadata": {},
   "outputs": [
    {
     "data": {
      "text/plain": [
       "PatientId          62299\n",
       "AppointmentID     110527\n",
       "Gender                 2\n",
       "ScheduledDay      103549\n",
       "AppointmentDay        27\n",
       "Age                  104\n",
       "Neighbourhood         81\n",
       "Scholarship            2\n",
       "Hipertension           2\n",
       "Diabetes               2\n",
       "Alcoholism             2\n",
       "Handcap                5\n",
       "SMS_received           2\n",
       "No-show                2\n",
       "dtype: int64"
      ]
     },
     "execution_count": 7,
     "metadata": {},
     "output_type": "execute_result"
    }
   ],
   "source": [
    "# Checking to know the number of unique values in our dataset\n",
    "df_unique = df.nunique()\n",
    "df_unique"
   ]
  },
  {
   "cell_type": "markdown",
   "id": "ef62e21e",
   "metadata": {},
   "source": [
    "The code with variable **df_unique** show the unique valuesin each columns.\n",
    "\n",
    "**N/B: The total number of patients is 110527**\n",
    "\n",
    "From the result displayed, we can deduce the following;\n",
    "* Gender, Scholarship, Hipertension, Diabetes, Alcoholism, SMS_recieved and No-shows columns has only *2* unique values i.e *True or False.*\n",
    "* We have *5* Unique Handcap values\n",
    "* We have *81* different Neighbourhoods where the appointment was made\n",
    "* *104* different values of age\n",
    "* *27* days/time duration in which appointments were registered\n",
    "* *103549* different days/time in which patients has to visit the doctor for their appointments\n",
    "* *110527* appointment ID which shows that for every appointment made, there is a unique ID set for the appointment since the total number of patients is equal to the number of AppointmentID.\n",
    "* Lastly, there *62299* unique PatientID; this signifies that there is a conflict in the patientsID which shows that there are duplicates in values in the PatientID column since the number of patients i.e rows is not equal to the number of the PatientID\n"
   ]
  },
  {
   "cell_type": "code",
   "execution_count": 8,
   "id": "0f9fb043",
   "metadata": {},
   "outputs": [
    {
     "data": {
      "text/html": [
       "<div>\n",
       "<style scoped>\n",
       "    .dataframe tbody tr th:only-of-type {\n",
       "        vertical-align: middle;\n",
       "    }\n",
       "\n",
       "    .dataframe tbody tr th {\n",
       "        vertical-align: top;\n",
       "    }\n",
       "\n",
       "    .dataframe thead th {\n",
       "        text-align: right;\n",
       "    }\n",
       "</style>\n",
       "<table border=\"1\" class=\"dataframe\">\n",
       "  <thead>\n",
       "    <tr style=\"text-align: right;\">\n",
       "      <th></th>\n",
       "      <th>PatientId</th>\n",
       "      <th>AppointmentID</th>\n",
       "      <th>Age</th>\n",
       "      <th>Scholarship</th>\n",
       "      <th>Hipertension</th>\n",
       "      <th>Diabetes</th>\n",
       "      <th>Alcoholism</th>\n",
       "      <th>Handcap</th>\n",
       "      <th>SMS_received</th>\n",
       "    </tr>\n",
       "  </thead>\n",
       "  <tbody>\n",
       "    <tr>\n",
       "      <th>count</th>\n",
       "      <td>1.105270e+05</td>\n",
       "      <td>1.105270e+05</td>\n",
       "      <td>110527.000000</td>\n",
       "      <td>110527.000000</td>\n",
       "      <td>110527.000000</td>\n",
       "      <td>110527.000000</td>\n",
       "      <td>110527.000000</td>\n",
       "      <td>110527.000000</td>\n",
       "      <td>110527.000000</td>\n",
       "    </tr>\n",
       "    <tr>\n",
       "      <th>mean</th>\n",
       "      <td>1.474963e+14</td>\n",
       "      <td>5.675305e+06</td>\n",
       "      <td>37.088874</td>\n",
       "      <td>0.098266</td>\n",
       "      <td>0.197246</td>\n",
       "      <td>0.071865</td>\n",
       "      <td>0.030400</td>\n",
       "      <td>0.022248</td>\n",
       "      <td>0.321026</td>\n",
       "    </tr>\n",
       "    <tr>\n",
       "      <th>std</th>\n",
       "      <td>2.560949e+14</td>\n",
       "      <td>7.129575e+04</td>\n",
       "      <td>23.110205</td>\n",
       "      <td>0.297675</td>\n",
       "      <td>0.397921</td>\n",
       "      <td>0.258265</td>\n",
       "      <td>0.171686</td>\n",
       "      <td>0.161543</td>\n",
       "      <td>0.466873</td>\n",
       "    </tr>\n",
       "    <tr>\n",
       "      <th>min</th>\n",
       "      <td>3.921784e+04</td>\n",
       "      <td>5.030230e+06</td>\n",
       "      <td>-1.000000</td>\n",
       "      <td>0.000000</td>\n",
       "      <td>0.000000</td>\n",
       "      <td>0.000000</td>\n",
       "      <td>0.000000</td>\n",
       "      <td>0.000000</td>\n",
       "      <td>0.000000</td>\n",
       "    </tr>\n",
       "    <tr>\n",
       "      <th>25%</th>\n",
       "      <td>4.172614e+12</td>\n",
       "      <td>5.640286e+06</td>\n",
       "      <td>18.000000</td>\n",
       "      <td>0.000000</td>\n",
       "      <td>0.000000</td>\n",
       "      <td>0.000000</td>\n",
       "      <td>0.000000</td>\n",
       "      <td>0.000000</td>\n",
       "      <td>0.000000</td>\n",
       "    </tr>\n",
       "    <tr>\n",
       "      <th>50%</th>\n",
       "      <td>3.173184e+13</td>\n",
       "      <td>5.680573e+06</td>\n",
       "      <td>37.000000</td>\n",
       "      <td>0.000000</td>\n",
       "      <td>0.000000</td>\n",
       "      <td>0.000000</td>\n",
       "      <td>0.000000</td>\n",
       "      <td>0.000000</td>\n",
       "      <td>0.000000</td>\n",
       "    </tr>\n",
       "    <tr>\n",
       "      <th>75%</th>\n",
       "      <td>9.439172e+13</td>\n",
       "      <td>5.725524e+06</td>\n",
       "      <td>55.000000</td>\n",
       "      <td>0.000000</td>\n",
       "      <td>0.000000</td>\n",
       "      <td>0.000000</td>\n",
       "      <td>0.000000</td>\n",
       "      <td>0.000000</td>\n",
       "      <td>1.000000</td>\n",
       "    </tr>\n",
       "    <tr>\n",
       "      <th>max</th>\n",
       "      <td>9.999816e+14</td>\n",
       "      <td>5.790484e+06</td>\n",
       "      <td>115.000000</td>\n",
       "      <td>1.000000</td>\n",
       "      <td>1.000000</td>\n",
       "      <td>1.000000</td>\n",
       "      <td>1.000000</td>\n",
       "      <td>4.000000</td>\n",
       "      <td>1.000000</td>\n",
       "    </tr>\n",
       "  </tbody>\n",
       "</table>\n",
       "</div>"
      ],
      "text/plain": [
       "          PatientId  AppointmentID            Age    Scholarship  \\\n",
       "count  1.105270e+05   1.105270e+05  110527.000000  110527.000000   \n",
       "mean   1.474963e+14   5.675305e+06      37.088874       0.098266   \n",
       "std    2.560949e+14   7.129575e+04      23.110205       0.297675   \n",
       "min    3.921784e+04   5.030230e+06      -1.000000       0.000000   \n",
       "25%    4.172614e+12   5.640286e+06      18.000000       0.000000   \n",
       "50%    3.173184e+13   5.680573e+06      37.000000       0.000000   \n",
       "75%    9.439172e+13   5.725524e+06      55.000000       0.000000   \n",
       "max    9.999816e+14   5.790484e+06     115.000000       1.000000   \n",
       "\n",
       "        Hipertension       Diabetes     Alcoholism        Handcap  \\\n",
       "count  110527.000000  110527.000000  110527.000000  110527.000000   \n",
       "mean        0.197246       0.071865       0.030400       0.022248   \n",
       "std         0.397921       0.258265       0.171686       0.161543   \n",
       "min         0.000000       0.000000       0.000000       0.000000   \n",
       "25%         0.000000       0.000000       0.000000       0.000000   \n",
       "50%         0.000000       0.000000       0.000000       0.000000   \n",
       "75%         0.000000       0.000000       0.000000       0.000000   \n",
       "max         1.000000       1.000000       1.000000       4.000000   \n",
       "\n",
       "        SMS_received  \n",
       "count  110527.000000  \n",
       "mean        0.321026  \n",
       "std         0.466873  \n",
       "min         0.000000  \n",
       "25%         0.000000  \n",
       "50%         0.000000  \n",
       "75%         1.000000  \n",
       "max         1.000000  "
      ]
     },
     "execution_count": 8,
     "metadata": {},
     "output_type": "execute_result"
    }
   ],
   "source": [
    "# Lets view the general descriptive statistics summary of our data\n",
    "df.describe()"
   ]
  },
  {
   "cell_type": "code",
   "execution_count": 9,
   "id": "25200b4b",
   "metadata": {},
   "outputs": [
    {
     "name": "stdout",
     "output_type": "stream",
     "text": [
      "<class 'pandas.core.frame.DataFrame'>\n",
      "RangeIndex: 110527 entries, 0 to 110526\n",
      "Data columns (total 14 columns):\n",
      " #   Column          Non-Null Count   Dtype  \n",
      "---  ------          --------------   -----  \n",
      " 0   PatientId       110527 non-null  float64\n",
      " 1   AppointmentID   110527 non-null  int64  \n",
      " 2   Gender          110527 non-null  object \n",
      " 3   ScheduledDay    110527 non-null  object \n",
      " 4   AppointmentDay  110527 non-null  object \n",
      " 5   Age             110527 non-null  int64  \n",
      " 6   Neighbourhood   110527 non-null  object \n",
      " 7   Scholarship     110527 non-null  int64  \n",
      " 8   Hipertension    110527 non-null  int64  \n",
      " 9   Diabetes        110527 non-null  int64  \n",
      " 10  Alcoholism      110527 non-null  int64  \n",
      " 11  Handcap         110527 non-null  int64  \n",
      " 12  SMS_received    110527 non-null  int64  \n",
      " 13  No-show         110527 non-null  object \n",
      "dtypes: float64(1), int64(8), object(5)\n",
      "memory usage: 11.8+ MB\n"
     ]
    }
   ],
   "source": [
    "# Lets generate a concise summary of the information contain in our dataset; showing the data types\n",
    "df.info()"
   ]
  },
  {
   "cell_type": "markdown",
   "id": "f11925f7",
   "metadata": {},
   "source": [
    "#### Cleaning\n",
    "From the general properties of our data we found some fews problems which can be cleaned before we proceed in exploring our data.\n",
    "\n",
    "* In our data info we found that the dtypes our ScheduledDay and AppointmentDay are object so we need to convert it to datetime\n",
    "\n",
    "* From our Unique Values we found our that the PatientID is duplicated i.e a Patient may have one or more Data\n",
    "\n",
    "* For us to focus more on the more important features as posed in the question, we drop some indepedent columns\n"
   ]
  },
  {
   "cell_type": "code",
   "execution_count": 10,
   "id": "a01a200a",
   "metadata": {},
   "outputs": [
    {
     "name": "stdout",
     "output_type": "stream",
     "text": [
      "<class 'pandas.core.frame.DataFrame'>\n",
      "RangeIndex: 110527 entries, 0 to 110526\n",
      "Data columns (total 14 columns):\n",
      " #   Column          Non-Null Count   Dtype              \n",
      "---  ------          --------------   -----              \n",
      " 0   PatientId       110527 non-null  float64            \n",
      " 1   AppointmentID   110527 non-null  int64              \n",
      " 2   Gender          110527 non-null  object             \n",
      " 3   ScheduledDay    110527 non-null  datetime64[ns, UTC]\n",
      " 4   AppointmentDay  110527 non-null  datetime64[ns, UTC]\n",
      " 5   Age             110527 non-null  int64              \n",
      " 6   Neighbourhood   110527 non-null  object             \n",
      " 7   Scholarship     110527 non-null  int64              \n",
      " 8   Hipertension    110527 non-null  int64              \n",
      " 9   Diabetes        110527 non-null  int64              \n",
      " 10  Alcoholism      110527 non-null  int64              \n",
      " 11  Handcap         110527 non-null  int64              \n",
      " 12  SMS_received    110527 non-null  int64              \n",
      " 13  No-show         110527 non-null  object             \n",
      "dtypes: datetime64[ns, UTC](2), float64(1), int64(8), object(3)\n",
      "memory usage: 11.8+ MB\n"
     ]
    }
   ],
   "source": [
    "# Convert ScheduledDay to datetime\n",
    "df['ScheduledDay'] = pd.to_datetime(df['ScheduledDay'])\n",
    "\n",
    "# Convert AppointmentDay to datetime\n",
    "df['AppointmentDay'] = pd.to_datetime(df['AppointmentDay'])\n",
    "\n",
    "# Recheck our info\n",
    "df.info()"
   ]
  },
  {
   "cell_type": "markdown",
   "id": "f3fccba5",
   "metadata": {},
   "source": [
    "We have suceeded in changing our ScheduledDay and AppointmentDay dtypes to datetime"
   ]
  },
  {
   "cell_type": "code",
   "execution_count": 11,
   "id": "52fc3e5d",
   "metadata": {},
   "outputs": [],
   "source": [
    "# dropping duplicates values in the PatientId array\n",
    "df.drop_duplicates(subset='PatientId', keep='first', inplace=True, ignore_index=True)"
   ]
  },
  {
   "cell_type": "code",
   "execution_count": 12,
   "id": "4532dcfe",
   "metadata": {},
   "outputs": [
    {
     "data": {
      "text/plain": [
       "(62299, 14)"
      ]
     },
     "execution_count": 12,
     "metadata": {},
     "output_type": "execute_result"
    }
   ],
   "source": [
    "# Rechecking the shape to confirm if the duplicates in the PatientId was dropped  \n",
    "df.shape"
   ]
  },
  {
   "cell_type": "markdown",
   "id": "081f93d3",
   "metadata": {},
   "source": [
    "In the above code we try to drop the duplicates data in the PatientId and rechecking the shape of our dataframe to confirm if the duplicates were actually dropped.\n",
    "We found out that we are left with *62299* PatientId (rows) and *14* columns"
   ]
  },
  {
   "cell_type": "code",
   "execution_count": 13,
   "id": "9e6d1c7e",
   "metadata": {},
   "outputs": [
    {
     "data": {
      "image/png": "[encoded data removed]",
      "text/plain": [
       "<Figure size 1440x1080 with 12 Axes>"
      ]
     },
     "metadata": {
      "needs_background": "light"
     },
     "output_type": "display_data"
    }
   ],
   "source": [
    "# Viewing the distribution of our data\n",
    "df.hist(figsize=(20, 15));"
   ]
  },
  {
   "cell_type": "markdown",
   "id": "6fc11eb7",
   "metadata": {},
   "source": [
    "The code above display the histogram of our the various features in our dataframe. This is important for us to know the more dependent feature in our dataframe and the features we can drop to focus our attention more on the needed dependent features  "
   ]
  },
  {
   "cell_type": "code",
   "execution_count": 14,
   "id": "a7ca2946",
   "metadata": {},
   "outputs": [],
   "source": [
    "df.drop(['PatientId', 'AppointmentID', 'ScheduledDay', 'Scholarship', 'Alcoholism', 'Handcap', 'Hipertension', 'Diabetes'], axis=1, inplace=True)"
   ]
  },
  {
   "cell_type": "markdown",
   "id": "31d71e0f",
   "metadata": {},
   "source": [
    "We've suceeded dropping *PatientId, AppointmentID, ScheduledDay, Scholarship, Alcoholism, Handcap, Hipertension, Diabetes"
   ]
  },
  {
   "cell_type": "code",
   "execution_count": 15,
   "id": "91b92dd2",
   "metadata": {},
   "outputs": [
    {
     "data": {
      "text/html": [
       "<div>\n",
       "<style scoped>\n",
       "    .dataframe tbody tr th:only-of-type {\n",
       "        vertical-align: middle;\n",
       "    }\n",
       "\n",
       "    .dataframe tbody tr th {\n",
       "        vertical-align: top;\n",
       "    }\n",
       "\n",
       "    .dataframe thead th {\n",
       "        text-align: right;\n",
       "    }\n",
       "</style>\n",
       "<table border=\"1\" class=\"dataframe\">\n",
       "  <thead>\n",
       "    <tr style=\"text-align: right;\">\n",
       "      <th></th>\n",
       "      <th>Gender</th>\n",
       "      <th>AppointmentDay</th>\n",
       "      <th>Age</th>\n",
       "      <th>Neighbourhood</th>\n",
       "      <th>SMS_received</th>\n",
       "      <th>No-show</th>\n",
       "    </tr>\n",
       "  </thead>\n",
       "  <tbody>\n",
       "    <tr>\n",
       "      <th>0</th>\n",
       "      <td>F</td>\n",
       "      <td>2016-04-29 00:00:00+00:00</td>\n",
       "      <td>62</td>\n",
       "      <td>JARDIM DA PENHA</td>\n",
       "      <td>0</td>\n",
       "      <td>No</td>\n",
       "    </tr>\n",
       "    <tr>\n",
       "      <th>1</th>\n",
       "      <td>M</td>\n",
       "      <td>2016-04-29 00:00:00+00:00</td>\n",
       "      <td>56</td>\n",
       "      <td>JARDIM DA PENHA</td>\n",
       "      <td>0</td>\n",
       "      <td>No</td>\n",
       "    </tr>\n",
       "    <tr>\n",
       "      <th>2</th>\n",
       "      <td>F</td>\n",
       "      <td>2016-04-29 00:00:00+00:00</td>\n",
       "      <td>62</td>\n",
       "      <td>MATA DA PRAIA</td>\n",
       "      <td>0</td>\n",
       "      <td>No</td>\n",
       "    </tr>\n",
       "    <tr>\n",
       "      <th>3</th>\n",
       "      <td>F</td>\n",
       "      <td>2016-04-29 00:00:00+00:00</td>\n",
       "      <td>8</td>\n",
       "      <td>PONTAL DE CAMBURI</td>\n",
       "      <td>0</td>\n",
       "      <td>No</td>\n",
       "    </tr>\n",
       "    <tr>\n",
       "      <th>4</th>\n",
       "      <td>F</td>\n",
       "      <td>2016-04-29 00:00:00+00:00</td>\n",
       "      <td>56</td>\n",
       "      <td>JARDIM DA PENHA</td>\n",
       "      <td>0</td>\n",
       "      <td>No</td>\n",
       "    </tr>\n",
       "  </tbody>\n",
       "</table>\n",
       "</div>"
      ],
      "text/plain": [
       "  Gender            AppointmentDay  Age      Neighbourhood  SMS_received  \\\n",
       "0      F 2016-04-29 00:00:00+00:00   62    JARDIM DA PENHA             0   \n",
       "1      M 2016-04-29 00:00:00+00:00   56    JARDIM DA PENHA             0   \n",
       "2      F 2016-04-29 00:00:00+00:00   62      MATA DA PRAIA             0   \n",
       "3      F 2016-04-29 00:00:00+00:00    8  PONTAL DE CAMBURI             0   \n",
       "4      F 2016-04-29 00:00:00+00:00   56    JARDIM DA PENHA             0   \n",
       "\n",
       "  No-show  \n",
       "0      No  \n",
       "1      No  \n",
       "2      No  \n",
       "3      No  \n",
       "4      No  "
      ]
     },
     "execution_count": 15,
     "metadata": {},
     "output_type": "execute_result"
    }
   ],
   "source": [
    "# Reviewing our dataset to check if the columns were dropped\n",
    "df.head()"
   ]
  },
  {
   "cell_type": "markdown",
   "id": "7a52d285",
   "metadata": {},
   "source": [
    "### Exploratory Data Analysis\n",
    "\n",
    "#### Which variable mostly influences the dependent variable "
   ]
  },
  {
   "cell_type": "markdown",
   "id": "29e7b705",
   "metadata": {},
   "source": [
    "Now Let's show the distribution of our dependent variable 'No-show'"
   ]
  },
  {
   "cell_type": "code",
   "execution_count": 16,
   "id": "ea8b2ab1",
   "metadata": {},
   "outputs": [
    {
     "data": {
      "text/plain": [
       "No     50106\n",
       "Yes    12193\n",
       "Name: No-show, dtype: int64"
      ]
     },
     "execution_count": 16,
     "metadata": {},
     "output_type": "execute_result"
    }
   ],
   "source": [
    "# Total number of patients who showed up and those who didn't \n",
    "df['No-show'].value_counts()"
   ]
  },
  {
   "cell_type": "code",
   "execution_count": 17,
   "id": "3f224a86",
   "metadata": {},
   "outputs": [
    {
     "data": {
      "image/png": "[encoded data removed]",
      "text/plain": [
       "<Figure size 432x288 with 1 Axes>"
      ]
     },
     "metadata": {
      "needs_background": "light"
     },
     "output_type": "display_data"
    }
   ],
   "source": [
    "# Let's show the distribution of the No-show\n",
    "df['No-show'].hist()\n",
    "plt.xlabel('No-show')\n",
    "plt.ylabel('Number of Patients')\n",
    "plt.title('Distribution of the Number of Patients and dependent variable No-show');"
   ]
  },
  {
   "cell_type": "markdown",
   "id": "10ab5d3b",
   "metadata": {},
   "source": [
    "We see from our distribution that about 20 percent of the patients didn't show up for their appointments"
   ]
  },
  {
   "cell_type": "code",
   "execution_count": 18,
   "id": "322df986",
   "metadata": {},
   "outputs": [],
   "source": [
    "# Masking No-show arrays\n",
    "show = df['No-show'] == 'No'\n",
    "no_show = df['No-show'] == 'Yes'"
   ]
  },
  {
   "cell_type": "markdown",
   "id": "e216ac61",
   "metadata": {},
   "source": [
    "Here we masked the dependent variable 'No-show', so that we differentiate the patients who showed up and those who did not. "
   ]
  },
  {
   "cell_type": "code",
   "execution_count": 19,
   "id": "a5519d5b",
   "metadata": {},
   "outputs": [
    {
     "data": {
      "text/plain": [
       "F    40046\n",
       "M    22253\n",
       "Name: Gender, dtype: int64"
      ]
     },
     "execution_count": 19,
     "metadata": {},
     "output_type": "execute_result"
    }
   ],
   "source": [
    "# Let's show the number of Male and female in our data \n",
    "df['Gender'].value_counts()"
   ]
  },
  {
   "cell_type": "code",
   "execution_count": 20,
   "id": "cedabf27",
   "metadata": {},
   "outputs": [
    {
     "data": {
      "image/png": "[encoded data removed]",
      "text/plain": [
       "<Figure size 432x288 with 1 Axes>"
      ]
     },
     "metadata": {
      "needs_background": "light"
     },
     "output_type": "display_data"
    }
   ],
   "source": [
    "# Let's grouby Gender and compare it with the dependent variable(No-show)\n",
    "cls = ['blue', 'red']\n",
    "df.groupby('Gender')['No-show'].value_counts().plot(kind='bar', color=cls)\n",
    "plt.xlabel('Gender')\n",
    "plt.ylabel('Number of Patients')\n",
    "plt.title('Distribution of the Number of Patients (show and no_show) and Gender');"
   ]
  },
  {
   "cell_type": "markdown",
   "id": "006478f1",
   "metadata": {},
   "source": [
    "Using the groupby function on gender we were able to see the distribution of the female and male who show up and those who didn't. The distribution above shows that the male is about 36% of the patients i.e the male are approximately half of the female in our dataset.\n",
    "\n",
    "Now let's view the counts of the distribution of those who showed and those who didn't;"
   ]
  },
  {
   "cell_type": "code",
   "execution_count": 21,
   "id": "68399515",
   "metadata": {},
   "outputs": [
    {
     "data": {
      "text/plain": [
       "F    32218\n",
       "M    17888\n",
       "Name: Gender, dtype: int64"
      ]
     },
     "execution_count": 21,
     "metadata": {},
     "output_type": "execute_result"
    }
   ],
   "source": [
    "# No of males and females that showed up for their appointment\n",
    "df.Gender[show].value_counts()"
   ]
  },
  {
   "cell_type": "code",
   "execution_count": 22,
   "id": "d343c548",
   "metadata": {},
   "outputs": [
    {
     "data": {
      "text/plain": [
       "F    7828\n",
       "M    4365\n",
       "Name: Gender, dtype: int64"
      ]
     },
     "execution_count": 22,
     "metadata": {},
     "output_type": "execute_result"
    }
   ],
   "source": [
    "# No of males and females that that didn't show up for their appointment\n",
    "df.Gender[no_show].value_counts()"
   ]
  },
  {
   "cell_type": "code",
   "execution_count": 23,
   "id": "ad3670e0",
   "metadata": {},
   "outputs": [],
   "source": [
    "# defining a function to avoid code repetition \n",
    "def plot_hist(df, arr1, arr2, show, no_show, title, x_label, y_label ):\n",
    "    plt.hist(arr1, alpha=0.5, bins=10, label='show' )\n",
    "    plt.hist(arr2, alpha=0.5, bins=10, label='no_show' )\n",
    "    plt.title(title);\n",
    "    plt.xlabel(x_label);\n",
    "    plt.ylabel(y_label);\n",
    "    plt.legend();\n",
    "    plt.show()"
   ]
  },
  {
   "cell_type": "code",
   "execution_count": 24,
   "id": "8e21b0a3",
   "metadata": {},
   "outputs": [
    {
     "data": {
      "image/png": "[encoded data removed]",
      "text/plain": [
       "<Figure size 432x288 with 1 Axes>"
      ]
     },
     "metadata": {
      "needs_background": "light"
     },
     "output_type": "display_data"
    }
   ],
   "source": [
    "# comparing the Gender with the number of show and no_show patients by using the function we defined\n",
    "plot_hist(df, df.Gender[show], df.Gender[no_show], show, no_show, 'Distribution of Gender with the number of show and no_show patients', 'Gender', 'Number of Patients')"
   ]
  },
  {
   "cell_type": "markdown",
   "id": "66a65cdb",
   "metadata": {},
   "source": [
    "We see from our distribution, \n",
    "* **32218** of females went for their appointment and **7828** didn't while;\n",
    "\n",
    "* For the male **17888** showed and  **4365** didn't"
   ]
  },
  {
   "cell_type": "code",
   "execution_count": 25,
   "id": "f5ff7198",
   "metadata": {},
   "outputs": [
    {
     "data": {
      "image/png": "[encoded data removed]",
      "text/plain": [
       "<Figure size 432x288 with 1 Axes>"
      ]
     },
     "metadata": {
      "needs_background": "light"
     },
     "output_type": "display_data"
    }
   ],
   "source": [
    "# comparing the Age with the number of show and no_show patients by calling the function we defined\n",
    "plot_hist(df, df.Age[show], df.Age[no_show], show, no_show, 'Distribution of Age with the number of show and no_show patients', 'Ages', 'Number of Patients')"
   ]
  },
  {
   "cell_type": "code",
   "execution_count": 26,
   "id": "d3e003d4",
   "metadata": {},
   "outputs": [
    {
     "data": {
      "text/plain": [
       "0    41905\n",
       "1    20394\n",
       "Name: SMS_received, dtype: int64"
      ]
     },
     "execution_count": 26,
     "metadata": {},
     "output_type": "execute_result"
    }
   ],
   "source": [
    "# Number of patient who received sms and those who didn't\n",
    "df['SMS_received'].value_counts()"
   ]
  },
  {
   "cell_type": "code",
   "execution_count": 27,
   "id": "19538729",
   "metadata": {},
   "outputs": [
    {
     "data": {
      "text/plain": [
       "0    35203\n",
       "1    14903\n",
       "Name: SMS_received, dtype: int64"
      ]
     },
     "execution_count": 27,
     "metadata": {},
     "output_type": "execute_result"
    }
   ],
   "source": [
    "# Number of patient who received and those who didn,t sms and showed\n",
    "df['SMS_received'][show].value_counts()"
   ]
  },
  {
   "cell_type": "markdown",
   "id": "23723b62",
   "metadata": {},
   "source": [
    "From the analysis of the code above 85% of the patients that didn't receive SMS showed up while, about 74% of the patients who received SMS showed up.\n",
    "This shows that more of the patients that didn't receive SMS showed up for their appointment.\n",
    "\n",
    "Now let's view this using a bar chart;"
   ]
  },
  {
   "cell_type": "code",
   "execution_count": 28,
   "id": "30d1bdcc",
   "metadata": {},
   "outputs": [
    {
     "data": {
      "image/png": "[encoded data removed]",
      "text/plain": [
       "<Figure size 432x288 with 1 Axes>"
      ]
     },
     "metadata": {
      "needs_background": "light"
     },
     "output_type": "display_data"
    }
   ],
   "source": [
    "# Plotting SMS_received with our dependent variable\n",
    "df['SMS_received'][show].value_counts().plot(kind='bar', alpha=0.7, color='blue', label='Show')\n",
    "df['SMS_received'][no_show].value_counts().plot(kind='bar', alpha=0.7, color='red', label='No_show')\n",
    "plt.title('A bar chart of SMS_received with the number of show and no_show patients')\n",
    "plt.xlabel('SMS_received')\n",
    "plt.ylabel('Number of Patients')\n",
    "plt.legend();"
   ]
  },
  {
   "cell_type": "markdown",
   "id": "f5335d10",
   "metadata": {},
   "source": [
    "### Does the Neighbourhood of the patients directly affects the patient show up?"
   ]
  },
  {
   "cell_type": "markdown",
   "id": "aa130219",
   "metadata": {},
   "source": [
    "Let's look at the different neighbourhood and how the Influences the number of patient who show up using a bar chart"
   ]
  },
  {
   "cell_type": "code",
   "execution_count": 29,
   "id": "361cf6e8",
   "metadata": {},
   "outputs": [
    {
     "data": {
      "image/png": "[encoded data removed]",
      "text/plain": [
       "<Figure size 720x1296 with 1 Axes>"
      ]
     },
     "metadata": {
      "needs_background": "light"
     },
     "output_type": "display_data"
    }
   ],
   "source": [
    "# Comparing the Neighbourhood and number of show and no_show using a bar chart\n",
    "df['Neighbourhood'][show].value_counts().plot(kind='barh', figsize=(10, 18), label='show')\n",
    "df['Neighbourhood'][no_show].value_counts().plot(kind='barh', color='red', figsize=(10, 18), label='no_show')\n",
    "plt.xlabel('Number of Patients')\n",
    "plt.ylabel('Neighbourhood')\n",
    "plt.title('Comparison of the Number of Patients (show and no_show) and their Neighbourhood ')\n",
    "plt.legend();"
   ]
  },
  {
   "cell_type": "markdown",
   "id": "a5101df5",
   "metadata": {},
   "source": [
    "From our chart we see that people staying in the neighbourhood of JARDIM CAMBURI appear to show up more on their meeting that any other neighbourhood"
   ]
  },
  {
   "cell_type": "markdown",
   "id": "dd789a26",
   "metadata": {},
   "source": [
    "### Conclusions"
   ]
  },
  {
   "cell_type": "markdown",
   "id": "b539cd1e",
   "metadata": {},
   "source": [
    "In summary, we had **110527** patients and **14** rows in our dataset. But during our analysis, we found out the following; \n",
    "\n",
    "* There were no missing values in our dataset\n",
    "* We had patients having the same PatientId which we needed to clean up before exploring our dataset. \n",
    "  This made us to drop duplicates in the PatientId columns which resulted to us having only *62299* patients left.\n",
    "* Out of the total *62299* patients, *50106* showed up while *12193* didn't\n",
    "* The total number of females were *40046* and 32218 showed up for their appointments \n",
    "* The total number of males were *22253* and *17888* showed up.\n",
    "* More people Showed up between the Age of *0-10* years and from *80* above showed up the least\n",
    "* The number of people who didn't received SMS who twice more than the once that received\n",
    "* People who didn't received SMS tends to be more people who showed up for their appointment\n",
    "* Lastly, In the comparison of the neighbourhood with the number of patients who showed up for their appointments and those who didn't it appears that patients in JARDIM CAMBURI showed up most and patients in  ILHA DO FRADE, AEROPORTO and ILHA DO BOI didn't even show up for their appointments\n",
    "\n",
    "From our analysis we tends to say that the neighbourhood of the patients greatly influences the *Show up* of the patients.\n",
    "\n",
    "Futhermore, during our analysis we observed that there were duplicates PatientId with different data which was a limitation in our analysis because we had to keep only the first PatientId and drop it's duplicates.\n",
    "\n",
    "\n",
    "\n",
    "\n"
   ]
  },
  {
   "cell_type": "code",
   "execution_count": null,
   "id": "344f4974",
   "metadata": {},
   "outputs": [],
   "source": []
  }
 ],
 "metadata": {
  "kernelspec": {
   "display_name": "Python 3 (ipykernel)",
   "language": "python",
   "name": "python3"
  },
  "language_info": {
   "codemirror_mode": {
    "name": "ipython",
    "version": 3
   },
   "file_extension": ".py",
   "mimetype": "text/x-python",
   "name": "python",
   "nbconvert_exporter": "python",
   "pygments_lexer": "ipython3",
   "version": "3.9.7"
  }
 },
 "nbformat": 4,
 "nbformat_minor": 5
}
